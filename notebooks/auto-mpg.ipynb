{
 "cells": [
  {
   "cell_type": "markdown",
   "id": "cf254cb9",
   "metadata": {},
   "source": [
    "### Формирование модели машинного обучения\n",
    "\n",
    "Текущий ноутбук рассматривает анализ датасета [Auto MPG](https://archive.ics.uci.edu/ml/datasets/Auto+MPG).\n",
    "\n",
    "В работе рассматривается:\n",
    "1. обучение регрессионной модели для определения потребления автомобилями топлива в городском цикле в галлонах на милю по представленным данным;\n",
    "2. сохранение обученной модели в виде **конвейера обработки данных** для последующего использования."
   ]
  },
  {
   "cell_type": "code",
   "execution_count": null,
   "id": "4947e43c",
   "metadata": {},
   "outputs": [],
   "source": [
    "import numpy as np\n",
    "import pandas as pd\n",
    "from seaborn import pairplot\n",
    "from sklearn.compose import ColumnTransformer, TransformedTargetRegressor\n",
    "from sklearn.pipeline import Pipeline\n",
    "from sklearn.impute import SimpleImputer\n",
    "from sklearn.preprocessing import StandardScaler, MinMaxScaler, OneHotEncoder\n",
    "from sklearn.linear_model import Ridge\n",
    "from sklearn.model_selection import train_test_split, GridSearchCV\n",
    "from pickle import dump\n",
    "from pathlib import Path"
   ]
  },
  {
   "cell_type": "code",
   "execution_count": null,
   "id": "4ae56d29",
   "metadata": {},
   "outputs": [],
   "source": [
    "col_names = (\"mpg\", \"cylinders\", \"displacement\", \"horsepower\", \"weight\", \n",
    "             \"acceleration\", \"model_year\", \"origin\", \"car name\")\n",
    "df = pd.read_csv(\"../data/auto-mpg-data.tsv\", \n",
    "                 delim_whitespace=True,\n",
    "                 names=col_names,\n",
    "                 header=None)"
   ]
  },
  {
   "cell_type": "code",
   "execution_count": null,
   "id": "88cc86ba",
   "metadata": {},
   "outputs": [],
   "source": [
    "df.head()"
   ]
  },
  {
   "cell_type": "code",
   "execution_count": null,
   "id": "835df4e4",
   "metadata": {},
   "outputs": [],
   "source": [
    "df.info()"
   ]
  },
  {
   "cell_type": "markdown",
   "id": "76e05a24",
   "metadata": {},
   "source": [
    "Столбец \"`horsepower`\" содержит что-то, кроме чисел. Выясним, что."
   ]
  },
  {
   "cell_type": "code",
   "execution_count": null,
   "id": "7a45e0e8",
   "metadata": {},
   "outputs": [],
   "source": [
    "df[\"horsepower_floats\"] = pd.to_numeric(df[\"horsepower\"], errors='coerce')"
   ]
  },
  {
   "cell_type": "code",
   "execution_count": null,
   "id": "a21e3ef5",
   "metadata": {},
   "outputs": [],
   "source": [
    "df.info()"
   ]
  },
  {
   "cell_type": "code",
   "execution_count": null,
   "id": "a74cfb74",
   "metadata": {},
   "outputs": [],
   "source": [
    "df[df[\"horsepower_floats\"].isna()]"
   ]
  },
  {
   "cell_type": "markdown",
   "id": "9b011c95",
   "metadata": {},
   "source": [
    "Итак, столбец \"`horsepower`\" содержит пропуски, обозначенные знаком вопроса. Заменим их на пустые значения, удалим вспомогательный столбец и колонку \"`car name`\", которая не используется для анализа."
   ]
  },
  {
   "cell_type": "code",
   "execution_count": null,
   "id": "b1fcfdbe",
   "metadata": {},
   "outputs": [],
   "source": [
    "df[\"horsepower\"] = df[\"horsepower_floats\"]\n",
    "df = df.drop(\"horsepower_floats\", axis=1)\n",
    "df = df.drop(\"car name\", axis=1)"
   ]
  },
  {
   "cell_type": "code",
   "execution_count": null,
   "id": "53def388",
   "metadata": {},
   "outputs": [],
   "source": [
    "df.info()"
   ]
  },
  {
   "cell_type": "code",
   "execution_count": null,
   "id": "d1ab9406",
   "metadata": {},
   "outputs": [],
   "source": [
    "df"
   ]
  },
  {
   "cell_type": "markdown",
   "id": "09383608",
   "metadata": {},
   "source": [
    "Посмотрим на распределение данных. Какие выводы по ним можно сделать?"
   ]
  },
  {
   "cell_type": "code",
   "execution_count": null,
   "id": "5dd6256f",
   "metadata": {},
   "outputs": [],
   "source": [
    "pairplot(df)"
   ]
  },
  {
   "cell_type": "markdown",
   "id": "2a7bd685",
   "metadata": {},
   "source": [
    "Посмторим на распределение категориальных переменных."
   ]
  },
  {
   "cell_type": "code",
   "execution_count": null,
   "id": "72228a25",
   "metadata": {},
   "outputs": [],
   "source": [
    "df[\"cylinders\"].value_counts()"
   ]
  },
  {
   "cell_type": "code",
   "execution_count": null,
   "id": "5879da87",
   "metadata": {},
   "outputs": [],
   "source": [
    "df[\"origin\"].value_counts()"
   ]
  },
  {
   "cell_type": "markdown",
   "id": "ed7fd600",
   "metadata": {},
   "source": [
    "Выясним, содержатся ли выбросы в данных."
   ]
  },
  {
   "cell_type": "code",
   "execution_count": null,
   "id": "68ec675b",
   "metadata": {},
   "outputs": [],
   "source": [
    "df[[\"mpg\", \"displacement\", \"horsepower\", \"weight\",\n",
    "    \"acceleration\", \"model_year\"]].boxplot(rot=45)"
   ]
  },
  {
   "cell_type": "markdown",
   "id": "e23239a7",
   "metadata": {},
   "source": [
    "Выбросы есть, но их немного, и они не критичные. Убирать их не будем."
   ]
  },
  {
   "cell_type": "markdown",
   "id": "de3dbd05",
   "metadata": {},
   "source": [
    "Сформируем конвейеры для обработки количественных и категориальных данных."
   ]
  },
  {
   "cell_type": "code",
   "execution_count": null,
   "id": "2bceb2b1",
   "metadata": {},
   "outputs": [],
   "source": [
    "numeric_features = [\"displacement\", \"horsepower\", \"weight\", \n",
    "                    \"acceleration\", \"model_year\"]\n",
    "numeric_transformer = Pipeline(\n",
    "    steps=[\n",
    "        (\"imputer\", SimpleImputer(strategy=\"median\")), \n",
    "        (\"scaler\", StandardScaler()),\n",
    "    ]\n",
    ")"
   ]
  },
  {
   "cell_type": "code",
   "execution_count": null,
   "id": "50337d8d",
   "metadata": {},
   "outputs": [],
   "source": [
    "categorical_features = [\"cylinders\", \"origin\"]\n",
    "categorical_transformer = Pipeline(\n",
    "    steps=[\n",
    "        (\"onehot-encoder\", OneHotEncoder(drop=\"first\", \n",
    "                                         handle_unknown=\"ignore\")),\n",
    "    ]\n",
    ")"
   ]
  },
  {
   "cell_type": "code",
   "execution_count": null,
   "id": "9bec5598",
   "metadata": {},
   "outputs": [],
   "source": [
    "preprocessor = ColumnTransformer(\n",
    "    transformers=[\n",
    "        (\"numeric\", numeric_transformer, numeric_features),\n",
    "        (\"categorical\", categorical_transformer, categorical_features),\n",
    "    ]\n",
    ")"
   ]
  },
  {
   "cell_type": "code",
   "execution_count": null,
   "id": "a5847fe8",
   "metadata": {},
   "outputs": [],
   "source": [
    "regressor = Ridge()\n",
    "tr_regressor = TransformedTargetRegressor(regressor=regressor,\n",
    "                                          transformer=MinMaxScaler())\n",
    "pipe = Pipeline(\n",
    "    steps=[\n",
    "        (\"preprocessor\", preprocessor), \n",
    "        (\"regressor\", tr_regressor)\n",
    "    ]\n",
    ")"
   ]
  },
  {
   "cell_type": "code",
   "execution_count": null,
   "id": "d18b7afb",
   "metadata": {},
   "outputs": [],
   "source": [
    "train, test = train_test_split(df, test_size=0.3)"
   ]
  },
  {
   "cell_type": "code",
   "execution_count": null,
   "id": "35d92184",
   "metadata": {},
   "outputs": [],
   "source": [
    "train.head()"
   ]
  },
  {
   "cell_type": "code",
   "execution_count": null,
   "id": "e1098927",
   "metadata": {},
   "outputs": [],
   "source": [
    "X_train = train[[\"cylinders\", \n",
    "                 \"displacement\", \n",
    "                 \"horsepower\", \n",
    "                 \"weight\", \n",
    "                 \"acceleration\", \n",
    "                 \"model_year\", \n",
    "                 \"origin\",\n",
    "                ]]\n",
    "Y_train = train[[\"mpg\"]]"
   ]
  },
  {
   "cell_type": "code",
   "execution_count": null,
   "id": "c3cef1f9",
   "metadata": {},
   "outputs": [],
   "source": [
    "X_test = test[[\"cylinders\", \n",
    "               \"displacement\", \n",
    "               \"horsepower\", \n",
    "               \"weight\", \n",
    "               \"acceleration\", \n",
    "               \"model_year\", \n",
    "               \"origin\",\n",
    "              ]]\n",
    "Y_test = test[[\"mpg\"]]"
   ]
  },
  {
   "cell_type": "markdown",
   "id": "7045526a",
   "metadata": {},
   "source": [
    "Подберем коэффициент регуляризации для линейной регрессии."
   ]
  },
  {
   "cell_type": "code",
   "execution_count": null,
   "id": "200ab090",
   "metadata": {},
   "outputs": [],
   "source": [
    "param_grid = {\n",
    "    \"regressor__regressor__alpha\": np.linspace(0.0, 3.0, num=31),\n",
    "}"
   ]
  },
  {
   "cell_type": "code",
   "execution_count": null,
   "id": "47429b5c",
   "metadata": {},
   "outputs": [],
   "source": [
    "search_cv = GridSearchCV(pipe, param_grid)"
   ]
  },
  {
   "cell_type": "code",
   "execution_count": null,
   "id": "b305dabe",
   "metadata": {},
   "outputs": [],
   "source": [
    "search_cv.fit(X_train, Y_train)"
   ]
  },
  {
   "cell_type": "code",
   "execution_count": null,
   "id": "4e00f124",
   "metadata": {},
   "outputs": [],
   "source": [
    "print(\"Best params:\")\n",
    "print(search_cv.best_params_)"
   ]
  },
  {
   "cell_type": "code",
   "execution_count": null,
   "id": "f4cef7d5",
   "metadata": {},
   "outputs": [],
   "source": [
    "search_cv.score(X_train, Y_train)"
   ]
  },
  {
   "cell_type": "code",
   "execution_count": null,
   "id": "0b65a0f5",
   "metadata": {},
   "outputs": [],
   "source": [
    "search_cv.score(X_test, Y_test)"
   ]
  },
  {
   "cell_type": "markdown",
   "id": "80ed1fbe",
   "metadata": {},
   "source": [
    "Сохраним полученный конвейер обработки данных для дальнейшего использования."
   ]
  },
  {
   "cell_type": "code",
   "execution_count": null,
   "id": "47548037",
   "metadata": {},
   "outputs": [],
   "source": [
    "Path(\"../models\").mkdir(parents=True, exist_ok=True)\n",
    "\n",
    "with open(\"../models/pipeline.pkl\", \"wb\") as file:\n",
    "    dump(search_cv, file)"
   ]
  }
 ],
 "metadata": {
  "kernelspec": {
   "display_name": "Python 3 (ipykernel)",
   "language": "python",
   "name": "python3"
  },
  "language_info": {
   "codemirror_mode": {
    "name": "ipython",
    "version": 3
   },
   "file_extension": ".py",
   "mimetype": "text/x-python",
   "name": "python",
   "nbconvert_exporter": "python",
   "pygments_lexer": "ipython3",
   "version": "3.10.8"
  }
 },
 "nbformat": 4,
 "nbformat_minor": 5
}
